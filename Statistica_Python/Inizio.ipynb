{
 "cells": [
  {
   "cell_type": "markdown",
   "metadata": {},
   "source": [
    "## Statistical approach to Python Language \n",
    "### Die Bedeutung der Statistik \n",
    "\n",
    "Wir können unseren _Reise_ in die Statistik damit beginnen, um zu fragen, warum Statistik so wichtig ist. \n",
    "Wie die meisten fühlen Sie wahrscheinlich, dass es wichtig ist, _\"um di Kontrolle über Ihr Leben zu übernehmen.\"_\n",
    "Aber was bedeutet das? Zum Teil bedeutet es, die Daten und Behauptungen, die Sie jeden Tag bombardieren, auswerten \n",
    "auswerten zu können. Wenn Sie gutes von Fehlerhaften nicht unterscheiden können, sind Sie anfällig für Manipulationen und \n",
    "Entscheidungen, die nicht in Ihrem Interesse sind. Statistik bietet Tools, die Sie benötigen, um intelligent auf Informationen zu reagieren,\n",
    "die Sie hören oder lesen. "
   ]
  },
  {
   "cell_type": "markdown",
   "metadata": {},
   "source": []
  }
 ],
 "metadata": {
  "kernelspec": {
   "display_name": "Python 3",
   "language": "python",
   "name": "python3"
  },
  "language_info": {
   "name": "python",
   "version": "3.10.13"
  }
 },
 "nbformat": 4,
 "nbformat_minor": 2
}
