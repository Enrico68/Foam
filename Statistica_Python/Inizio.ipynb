{
 "cells": [
  {
   "cell_type": "markdown",
   "metadata": {},
   "source": [
    "## Was is Statistik \n",
    "\n",
    "Wir können unseren _Reise_ in die Statistik damit beginnen, um zu fragen, warum Statistik so wichtig ist. \n",
    "Wie die meisten fühlen Sie wahrscheinlich, dass es wichtig ist, _\"um di Kontrolle über Ihr Leben zu übernehmen.\"_\n",
    "Aber was bedeutet das? Zum Teil bedeutet es, die Daten und Behauptungen, die Sie jeden Tag bombardieren,  \n",
    "auswerten zu können. Wenn Sie gutes von Fehlerhaften nicht unterscheiden können, sind Sie anfällig für Manipulationen und \n",
    "Entscheidungen, die nicht in Ihrem Interesse sind. Statistik bietet Tools, die Sie benötigen, um intelligent auf Informationen zu reagieren,\n",
    "die Sie hören oder lesen. \n",
    "Statistiken umfassen numerische Fakten und Zahlen. Zum Beispiel:\n",
    "- Das stärkste Erbeden hatte eine Stärke von 9.2 auf der Riichterskala. \n",
    "- Bei Männer ist die Wahrscheinlichkeit, einen Mord zu begehen, mindestens zehnmal höher als bei Frauen. \n",
    "- Jeder achte Südafrikaner ist HIV-positiv. \n",
    "- Bis zum Jahr 2020 werden auf jedes Neugeborene 15 Menschen im Alter von 65 Jahren und älter kommen.\n",
    "Das Studium der Statistik beinhaltet Mathematik und basiert auf der Berechnung von Zahlen. Es hängt aber auch stark davon ab, wie di Zahlen ausgewählt und die Statistiken interpretieren worden. Betrachten beispielweise die drei Szenarien und die Interpretationen basierend auf den präsentierten Statistiken. Sie werden festellen, dass die Zahlen zwar stimmen, die Interpretation möglicherweise falsch ist. Versuchen Sie, bei jeder Interpretation einen wesentlichen Fehler zu identifizieren, bevor wir ihn beschreiben.\n",
    "1. Eine neue Werbung für Ben & Jerry's Eis, die Ende Mai letzten Jahres eingeführt wurde, führte in den folgenden drei Monaten zu einem Anstieg der Eisverkäufe um 30%. Somit war die Werbung wirksam.\n",
    ">  Ein großer Nachteil besteht darin, dass der Einkonsum im Allgemeinen in den Monaten Juni, Juli und August,  unabhängig von der Werbung. Dieser Effekt wird als Verlaufseffekt bezeochnet, und führt dazu. dass Menschen Ergebnisse als Ergebnis einer Variablen interpretieren,während tatsächlich eine andere Variable(in dieser Fall eine Variable, die mit dem Zeitblauf zu tun hat) dafür verantwortlich ist.\n"
   ]
  },
  {
   "cell_type": "markdown",
   "metadata": {},
   "source": []
  }
 ],
 "metadata": {
  "kernelspec": {
   "display_name": "Python 3",
   "language": "python",
   "name": "python3"
  },
  "language_info": {
   "name": "python",
   "version": "3.12.3"
  }
 },
 "nbformat": 4,
 "nbformat_minor": 2
}
